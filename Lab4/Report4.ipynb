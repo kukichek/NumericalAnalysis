{
 "cells": [
  {
   "cell_type": "markdown",
   "metadata": {},
   "source": [
    "## ВМА. Лабораторная 4. Отчет\n",
    "### Гамезо Валерия"
   ]
  },
  {
   "cell_type": "markdown",
   "metadata": {},
   "source": [
    "### Постановка задачи"
   ]
  },
  {
   "cell_type": "markdown",
   "metadata": {},
   "source": [
    "Пусть дана система линейных алгебраических уравнений вида\n",
    "  \n",
    "$$\n",
    "\\begin{array}{ccccccccc}\n",
    "    a_{11}x_1 & + & a_{12}x_2 & + & \\dots & + & a_{1n}x_n & = & f_1, \\\\\n",
    "    a_{21}x_1 & + & a_{22}x_2 & + & \\dots & + & a_{2n}x_n & = & f_2, \\\\\n",
    "    \\vdots & & \\vdots & & \\ddots & & \\vdots & & \\vdots \\\\\n",
    "    a_{n1}x_1 & + & a_{n2}x_2 & + & \\dots & + & a_{nn}x_n & = & f_n\n",
    "\\end{array}\n",
    "$$\n",
    "    \n",
    "Для всех заданий лабораторной работы: \n",
    "Задать матрицу системы: \n",
    "\n",
    "- недиагональные элементы $a_{i, j}$, $i \\neq j$, выбираются из чисел $0, –1, –2, –3, –4$ произвольным образом;\n",
    "- $a_{i, i} = -\\sum\\limits_{j = 1, j \\neq i}^n a_{i,j}, 2 \\leq i \\leq n$;\n",
    "- $a_{1, 1} = -\\sum\\limits_{j = 2}^n a_{1, j} + 1$;\n",
    "\n",
    "Матрица системы имеет диагональное преобладание, для первого уравнения преобладание строгое.\n",
    "Матрица генерируется один раз, для всех заданий она одна и та же. \n",
    "Задать правую часть $f$ умножением матрицы $A$ на вектор $x = (m, m+1, ... , n+m–1): f=Ax$.\n",
    "    \n",
    "Для вычислений выбрать параметры: \n",
    "\n",
    "- $m$ – номер в списке студенческой группы; \n",
    "- $n$ – одно из чисел в пределах от $10$ до $12$. \n",
    "\n",
    "В качестве языка программирования выбрать C или C++, для вычислений использовать тип float. \n",
    "Выход из итерационного процесса выполнять, если $\\max\\limits_{1 \\leq i \\leq n}|x_i^{k + 1} - x_i^{k}| < \\varepsilon$, \n",
    "либо если $k>k_{max}$. Задать $\\varepsilon = 0.0001, k_{max} = 1000$. \n",
    "Вывести на печать полученный приближенный вектор решений и номер итерации, при которой достигнута требуемая точность. \n",
    "Предусмотреть сообщение о выходе из итерационного процесса из-за превышения допустимого максимального количества итераций;\n",
    "в этом случае вывести на печать приближенный вектор решений, полученный на итерации $k_{max}$.  \n"
   ]
  },
  {
   "cell_type": "markdown",
   "metadata": {},
   "source": [
    "### Задача 1"
   ]
  },
  {
   "cell_type": "markdown",
   "metadata": {},
   "source": [
    "Разработать программу численного решения СЛАУ методом Якоби: \n",
    "\n",
    "$$\n",
    "x_i^{k + 1} = \\frac{1}{a_{ii}} \\left( f_i - \\sum\\limits_{j = 1}^{i - 1} a_{ij}x_j^k - \\sum\\limits_{j = i + 1}^n a_{ij}x_j^k \\right),\n",
    "$$\n",
    "\n",
    "<center>\n",
    "$i = \\overline{1, n}, \\; k = 0, 1, 2, \\dots$"
   ]
  },
  {
   "cell_type": "markdown",
   "metadata": {},
   "source": [
    "### Входные данные"
   ]
  },
  {
   "cell_type": "markdown",
   "metadata": {},
   "source": [
    "$N = 12$\n",
    "\n",
    "$M = 5$\n",
    "\n",
    "$$\n",
    "A = \\left( \\begin{array}{rrrrrrrrrrrr|r}\n",
    "  18 &  -2 &  -3 &  -2 &   0 &  -3 &   0 &  -2 &  -4 &   0 &   0 &  -1 &\t -81 \\\\\n",
    "  -4 &  28 &  -4 &  -1 &  -3 &  -1 &  -4 &  -4 &  -3 &   0 &  -2 &  -2 &\t-118 \\\\\n",
    "  -3 &  -4 &  19 &   0 &  -1 &   0 &   0 &  -2 &  -3 &  -4 &   0 &  -2 &\t -66 \\\\\n",
    "  -3 &  -1 &   0 &  21 &   0 &  -4 &  -3 &   0 &  -3 &  -3 &  -2 &  -2 &\t -69 \\\\\n",
    "  -2 &  -4 &  -4 &  -1 &  23 &  -2 &  -4 &  -2 &   0 &  -1 &  -1 &  -2 &\t -12 \\\\\n",
    "  -2 &  -2 &   0 &  -4 &  -2 &  21 &   0 &  -4 &   0 &  -4 &  -3 &   0 &\t -11 \\\\\n",
    "  -4 &  -2 &  -4 &  -1 &  -3 &  -4 &  28 &  -1 &  -4 &  -1 &  -1 &  -3 &\t  32 \\\\\n",
    "  -2 &  -1 &  -1 &  -3 &  -3 &  -2 &  -1 &  18 &  -3 &   0 &  -2 &   0 &\t  42 \\\\\n",
    "  -4 &  -3 &  -3 &  -4 &  -3 &  -2 &  -3 &  -1 &  30 &  -3 &  -3 &  -1 &\t 104 \\\\\n",
    "  -1 &  -3 &  -1 &  -4 &   0 &  -3 &  -3 &  -1 &  -3 &  21 &   0 &  -2 &\t  86 \\\\\n",
    "  -3 &   0 &   0 &  -2 &  -3 &  -3 &  -1 &  -3 &   0 &  -2 &  21 &  -4 &\t  88 \\\\\n",
    "   0 &   0 &  -4 &  -3 &  -1 &  -1 &  -3 &  -3 &  -4 &   0 &  -2 &  21 &\t 114\n",
    "\\end{array} \\right)\n",
    "$$"
   ]
  },
  {
   "cell_type": "markdown",
   "metadata": {},
   "source": [
    "### Листинг программы"
   ]
  },
  {
   "cell_type": "markdown",
   "metadata": {},
   "source": [
    "Класс матрицы"
   ]
  },
  {
   "cell_type": "markdown",
   "metadata": {},
   "source": [
    "```c++\n",
    "class ExtendedMatrix {\n",
    " public:\n",
    "  ExtendedMatrix(const ExtendedMatrix& matrix) : mSize(matrix.mSize) { // конструктор копирования \n",
    "                                                                       // расширенной матрицы размера mSize\n",
    "    a = new float* [mSize];\n",
    "\n",
    "    for (int i = 0; i < mSize; ++i) {\n",
    "      a[i] = new float[mSize + 1];\n",
    "\n",
    "      for (int j = 0; j < mSize; ++j) {\n",
    "        a[i][j] = matrix[i][j];\n",
    "      }\n",
    "\n",
    "      a[i][mSize] = matrix[i][mSize];\n",
    "    }\n",
    "  }\n",
    "\n",
    "  ExtendedMatrix(int size, int solFirstVal) : mSize(size) { // конструктор расширенной матрицы размера size \n",
    "                                                            // и с начальным значением вектора решений solFirstVal\n",
    "    a = new float* [mSize];\n",
    "\n",
    "    for (int i = 0; i < mSize; ++i) {\n",
    "      a[i] = new float[mSize + 1];\n",
    "    }\n",
    "\n",
    "    generateCoefs(); // генерация коэффициентов матрицы\n",
    "    generateCTerms(solFirstVal); // генерация свободных членов с решением x = (m, m + 1, ..., m + n - 1)\n",
    "  }\n",
    "    \n",
    "  ~ExtendedMatrix() {\n",
    "    for (int i = 0; i < mSize; ++i) {\n",
    "      delete[] a[i];\n",
    "    }\n",
    "  }\n",
    "\n",
    "  float* operator[] (int index) const {\n",
    "    return a[index];\n",
    "  }\n",
    "    \n",
    "  int size() const {\n",
    "    return mSize;\n",
    "  }\n",
    "\n",
    " private:\n",
    "  void generateCoefs() { // генерация коэффициентов матрицы\n",
    "    std::srand(std::time(0));\n",
    "\n",
    "    for (int i = 0; i < mSize; ++i) {\n",
    "      int sum = 0;\n",
    "\n",
    "      for (int j = 0; j < mSize; ++j) {\n",
    "        a[i][j] = std::rand() % 5 - 4;\n",
    "        sum += a[i][j];\n",
    "      }\n",
    "\n",
    "      sum -= a[i][i];\n",
    "      a[i][i] = -sum;\n",
    "    }\n",
    "\n",
    "    a[0][0] ++;\n",
    "  }\n",
    "    \n",
    "  void generateCTerms(int) solFirstVal) { // генерация свободных членов с решением x = (m, m + 1, ..., m + n - 1)\n",
    "    for (int i = 0; i < mSize; ++i) {\n",
    "      for (int j = 0; j < mSize; ++j) {\n",
    "        a[i][mSize] += (solFirstVal + j) * a[i][j];\n",
    "      }\n",
    "    }\n",
    "  }\n",
    "\n",
    "  float** a;\n",
    "  int mSize;\n",
    "};\n",
    "```"
   ]
  },
  {
   "cell_type": "markdown",
   "metadata": {},
   "source": [
    "Методы класса LES (linear equations system), которые находят решение СЛАУ методом Якоби"
   ]
  },
  {
   "cell_type": "markdown",
   "metadata": {},
   "source": [
    "```c++\n",
    "int LES::findSolJakobianMethod(int kMax, double accuracy) {\n",
    "  state = \"JakobianMethod\";\n",
    "\n",
    "  for (int k = 0; k < kMax; ++k) { // выполнение вычислений пока k < k_max\n",
    "    for (int i = 0; i < mSize_; ++i) {\n",
    "      curSol_[i] = matrix[i][mSize_];\n",
    "\n",
    "      for (int j = 0; j < mSize_; ++j) {\n",
    "        curSol_[i] -= matrix[i][j] * prevSol_[j];\n",
    "      }\n",
    "\n",
    "      curSol_[i] += matrix[i][i] * prevSol_[i];\n",
    "      curSol_[i] /= matrix[i][i];\n",
    "    }\n",
    "\n",
    "    std::swap(prevSol_, curSol_);\n",
    "\n",
    "    if (maxDiff() < accuracy) { // либо пока разность текущего и предыдущего решений не будет меньше epsilon = 1e-4 \n",
    "      return k;\n",
    "    }\n",
    "  }\n",
    "\n",
    "  state += \"ExceededKMax\";\n",
    "  return -1;\n",
    "}\n",
    "\n",
    "float LES::maxDiff() {\n",
    "  float mDiff = 0;\n",
    "\n",
    "  for (int i = 0; i < mSize_; ++i) {\n",
    "    if (mDiff < std::abs(prevSol_[i] - curSol_[i])) {\n",
    "      mDiff = std::abs(prevSol_[i] - curSol_[i]);\n",
    "    }\n",
    "  }\n",
    "\n",
    "  return mDiff;\n",
    "}\n",
    "```"
   ]
  },
  {
   "cell_type": "markdown",
   "metadata": {},
   "source": [
    "### Выходные данные"
   ]
  },
  {
   "cell_type": "markdown",
   "metadata": {},
   "source": [
    "Превышено число максимальное число итераций $k_{max} = 1000$\n",
    "\n",
    "$$\n",
    "X^* = \\left( \n",
    "\\begin{array}{c}\n",
    "    4.966234 \\\\\n",
    "   5.964497 \\\\\n",
    "   6.964497 \\\\\n",
    "   7.964469 \\\\\n",
    "   8.964399 \\\\\n",
    "   9.964396 \\\\\n",
    "  10.964480 \\\\\n",
    "  11.964446 \\\\\n",
    "  12.964473 \\\\\n",
    "  13.964328 \\\\\n",
    "  14.964444 \\\\\n",
    "  15.964262\n",
    "\\end{array}\n",
    "\\right)\n",
    "$$"
   ]
  },
  {
   "cell_type": "markdown",
   "metadata": {},
   "source": [
    "### Задача 2"
   ]
  },
  {
   "cell_type": "markdown",
   "metadata": {},
   "source": [
    "Разработать программу численного решения СЛАУ методом релаксации: \n",
    "\n",
    "$$\n",
    "x^{k + 1}_i = (1 - \\omega)x_i^k + \\frac{\\omega}{a_{ii}}\\left( f_i - \\sum\\limits_{j = 1}^{i - 1} a_{ij}x_j^{k + 1} - \\sum\\limits_{j = i + 1}^n a_{ij}x_j^k \\right),\n",
    "$$\n",
    "\n",
    "<center>\n",
    "$i = \\overline{1, n}, \\; k = 0, 1, 2, \\dots$\n",
    "    \n",
    "Рассмотреть три случая: $\\omega = 0.5, \\; \\omega = 1$ (это метод Зейделя), $\\omega = 1.5$.  "
   ]
  },
  {
   "cell_type": "markdown",
   "metadata": {},
   "source": [
    "### Листинг программы"
   ]
  },
  {
   "cell_type": "markdown",
   "metadata": {},
   "source": [
    "Методы класса LES (linear equations system), которые находят решение СЛАУ методом релаксации"
   ]
  },
  {
   "cell_type": "markdown",
   "metadata": {},
   "source": [
    "```c++\n",
    "int LES::findSolRelaxationMethod(int kMax, double accuracy, double option) { // при помоци option задается \n",
    "                                                                             // вариация формулы = 0.5, 1 или 1.5 \n",
    "  state = \"RelaxationMethod\" + std::to_string(int(10 * option));\n",
    "\n",
    "  for (int k = 0; k < kMax; ++k) {\n",
    "    for (int i = 0; i < mSize_; ++i) {\n",
    "      curSol_[i] = matrix[i][mSize_];\n",
    "\n",
    "      for (int j = 0; j < i; ++j) {\n",
    "        curSol_[i] -= matrix[i][j] * curSol_[j];\n",
    "      }\n",
    "\n",
    "      for (int j = i + 1; j < mSize_; ++j) {\n",
    "        curSol_[i] -= matrix[i][j] * prevSol_[j];\n",
    "      }\n",
    "\n",
    "      curSol_[i] = curSol_[i] * option / matrix[i][i] + (1 - option) * prevSol_[i];\n",
    "    }\n",
    "\n",
    "    std::swap(prevSol_, curSol_);\n",
    "\n",
    "    if (maxDiff() < accuracy) {\n",
    "      return k;\n",
    "    }\n",
    "  }\n",
    "\n",
    "  state += \"ExceededKMax\";\n",
    "  return -1;\n",
    "}\n",
    "```"
   ]
  },
  {
   "cell_type": "markdown",
   "metadata": {},
   "source": [
    "### Выходные данные"
   ]
  },
  {
   "cell_type": "markdown",
   "metadata": {},
   "source": [
    "<center>\n",
    "\n",
    "$$\n",
    "\\begin{array}{ccc}\n",
    "    \\omega = 0.5 & \\omega = 1 & \\omega = 1.5 \\\\\n",
    "    \\text{превышено} \\; k_{max}: 1000 & \\text{итерация:} \\; 626 & \\text{итерация:} \\; 234 \n",
    "\\end{array}\n",
    "$$"
   ]
  },
  {
   "cell_type": "markdown",
   "metadata": {},
   "source": [
    "$$\n",
    "X^* = \\left( \\begin{array}{c}\n",
    "   4.766910 \\\\\n",
    "   5.755056 \\\\\n",
    "   6.755270 \\\\\n",
    "   7.754972 \\\\\n",
    "   8.754656 \\\\\n",
    "   9.754681 \\\\\n",
    "  10.755381 \\\\\n",
    "  11.755183 \\\\\n",
    "  12.755423 \\\\\n",
    "  13.754567 \\\\\n",
    "  14.755358 \\\\\n",
    "  15.754273\n",
    "\\end{array} \\right)\n",
    "X^* = \\left( \\begin{array}{c}\n",
    "   4.991917 \\\\\n",
    "   5.991516 \\\\\n",
    "   6.991539 \\\\\n",
    "   7.991521 \\\\\n",
    "   8.991522 \\\\\n",
    "   9.991526 \\\\\n",
    "  10.991560 \\\\\n",
    "  11.991553 \\\\\n",
    "  12.991565 \\\\\n",
    "  13.991549 \\\\\n",
    "  14.991574 \\\\\n",
    "  15.991549\n",
    "\\end{array} \\right)\n",
    "X^* = \\left( \\begin{array}{c}\n",
    "   4.997551 \\\\\n",
    "   5.997440 \\\\\n",
    "   6.997462 \\\\\n",
    "   7.997449 \\\\\n",
    "   8.997462 \\\\\n",
    "   9.997465 \\\\\n",
    "  10.997484 \\\\\n",
    "  11.997484 \\\\\n",
    "  12.997492 \\\\\n",
    "  13.997497 \\\\\n",
    "  14.997507 \\\\\n",
    "  15.997512\n",
    "\\end{array} \\right)\n",
    "$$    "
   ]
  },
  {
   "cell_type": "markdown",
   "metadata": {},
   "source": [
    "### Вывод"
   ]
  },
  {
   "cell_type": "markdown",
   "metadata": {},
   "source": [
    "При строгом диагональном приобладании итерационные методы сходятся при любом первичном приближении $x_0$. Метод релаксации в целом болле эффективен, нежели метод Якоби, так как при каждом следующем вычислении приближения каждая координата $(k+1)$-го приближения сразу после получения используется для вычисления следующих координат. Наиболее оптимальным выбором $\\omega$ является промежуток $(1,2)$."
   ]
  }
 ],
 "metadata": {
  "kernelspec": {
   "display_name": "C++14",
   "language": "C++14",
   "name": "xcpp14"
  },
  "language_info": {
   "codemirror_mode": "text/x-c++src",
   "file_extension": ".cpp",
   "mimetype": "text/x-c++src",
   "name": "c++",
   "version": "-std=c++14"
  }
 },
 "nbformat": 4,
 "nbformat_minor": 2
}
