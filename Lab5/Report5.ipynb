{
 "cells": [
  {
   "cell_type": "markdown",
   "metadata": {},
   "source": [
    "## ВМА. Лабораторная 5. Отчет\n",
    "### Гамезо Валерия"
   ]
  },
  {
   "cell_type": "markdown",
   "metadata": {},
   "source": [
    "### Постановка задачи"
   ]
  },
  {
   "cell_type": "markdown",
   "metadata": {},
   "source": [
    "Разработать программу приведения матрицы к канонической форме Фробениуса методом Данилевского (регулярный случай); сохранить матрицы, используемые для получения собственных векторов. \n",
    "\n",
    "Для вычислений: \n",
    "\n",
    "- $n = 4$ – порядок матрицы;\n",
    "- при заполнении матрицы $A$ использовать случайные числа из диапазона от $−50$ до $50$. Для получения случайных чисел использовать библиотечную функцию rand(), подключив хедер stdlib.h;\n",
    "- использовать тип float; \n",
    "- «ведущий элемент» $a^{n - k}_{k, k - 1}$ на $(n–k+1)$-м шаге, $k=n, n–1,\\dots, 2, (a^{(0)}_{n, n - 1} = a_{n, n - 1})$ должен быть отличным от нуля (рассматривается только такой регулярный случай); \n",
    "- считать $a^{(n - k)}_{k, k- 1}$ равным нулю, если $| a^{(n - k)}_{k, k- 1} | < 10^{-s}$;\n",
    "- если $| a^{(n - k)}_{k, k- 1} | < 10^{-s}$, то выдать соответствующее сообщение и заново заполнить матрицу $A$. "
   ]
  },
  {
   "cell_type": "markdown",
   "metadata": {},
   "source": [
    "Программно реализовать для рассматриваемого примера алгоритм приведения матрицы к канонической форме Фробениуса. Порядок матрицы $n$ должен быть в коде параметром (это требование не является обязательным). Сохранить матрицы $M_{n – 1}, M_{n - 2}, \\dots , M_1$, используемые для получения собственных векторов (понадобятся для другой работы). Вывести на печать матрицу $A$ (входные данные), полученную каноническую форму Фробениуса $Ф$, матрицы $M_{n – 1}, M_{n – 2}, \\dots , M_1$, коэффициент $p_1$ (полученный из формы Фробениуса), след матрицы $\\text{tr} A$ (для контроля вычислений: должно приближенно выполняться равенство $p_1 = \\text{tr} A = a_{1, 1} + a_{2, 2}+ \\dots + a_{n, n}$). "
   ]
  },
  {
   "cell_type": "markdown",
   "metadata": {},
   "source": [
    "### Входные данные"
   ]
  },
  {
   "cell_type": "markdown",
   "metadata": {},
   "source": [
    "$$\n",
    "A = \\left( \\begin{array}{rrrr}\n",
    "  19 &  35 & -35 &  23 \\\\\n",
    " -50 &  48 & -40 & -30 \\\\\n",
    "  32 & -41 & -38 & -17 \\\\\n",
    "   6 &  32 & -16 &  23 \\\\\n",
    "\\end{array} \\right)\n",
    "$$"
   ]
  },
  {
   "cell_type": "markdown",
   "metadata": {},
   "source": [
    "<center>\n",
    "$\\text{tr} A = 52$"
   ]
  },
  {
   "cell_type": "markdown",
   "metadata": {},
   "source": [
    "### Листинг программы"
   ]
  },
  {
   "cell_type": "markdown",
   "metadata": {},
   "source": [
    "Класс матрицы"
   ]
  },
  {
   "cell_type": "markdown",
   "metadata": {},
   "source": [
    "```c++\n",
    "class Matrix {\n",
    "public:\n",
    "    Matrix(const Matrix& matrix) : mSize(matrix.mSize) { //конструктор копирования\n",
    "        a = new float* [mSize];\n",
    "\n",
    "        for (int i = 0; i < mSize; ++i) {\n",
    "            a[i] = new float[mSize];\n",
    "\n",
    "            for (int j = 0; j < mSize; ++j) {\n",
    "                a[i][j] = matrix[i][j];\n",
    "            }\n",
    "        }\n",
    "    }\n",
    "    \n",
    "    Matrix(int size, bool isNull) : mSize(size) { // isNull - флаг, указывающий, заполнять матрицу нулями\n",
    "                                                  // либо рандомными значениями (например, при инициализации \n",
    "                                                  // дополнительные матрицы M заполняются нулями)\n",
    "        a = new float* [mSize];\n",
    "\n",
    "        for (int i = 0; i < mSize; ++i) {\n",
    "            a[i] = new float[mSize];\n",
    "        }\n",
    "\n",
    "        generateCoefs(isNull);\n",
    "    }\n",
    "\n",
    "    ~Matrix() {\n",
    "        for (int i = 0; i < mSize; ++i) {\n",
    "            delete[] a[i];\n",
    "        }\n",
    "    }\n",
    "\n",
    "\n",
    "    float* operator[] (int index) const {\n",
    "        return a[index];\n",
    "    }\n",
    "    \n",
    "    int size() const {\n",
    "        return mSize;\n",
    "    }\n",
    "\n",
    "    Matrix& operator* (const Matrix& other) { // оператор умножения матриц\n",
    "        auto* result = new Matrix(mSize, true);\n",
    "\n",
    "        for (int i = 0; i < mSize; ++i) {\n",
    "            for (int j = 0; j < mSize; ++j) {\n",
    "                for (int k = 0; k < mSize; ++k) {\n",
    "                    (*result)[i][j] += a[i][k] * other[k][j];\n",
    "                }\n",
    "            }\n",
    "        }\n",
    "\n",
    "        return *result;\n",
    "    } \n",
    "    \n",
    "    Matrix& operator= (const Matrix& other) {\n",
    "        if (this == &other) return *this;\n",
    "\n",
    "        for (int i = 0; i < mSize; ++i) {\n",
    "            for (int j = 0; j < mSize; ++j) {\n",
    "                a[i][j] = other[i][j];\n",
    "            }\n",
    "        }\n",
    "\n",
    "        return *this;\n",
    "    }\n",
    "\n",
    "private:\n",
    "    void generateCoefs (bool isNull) { // генерация коеффициентов\n",
    "        if (isNull) { // заполнение нулями\n",
    "            for (int i = 0; i < mSize; ++i) {\n",
    "                for (int j = 0; j < mSize; ++j) {\n",
    "                    a[i][j] = 0;\n",
    "                }\n",
    "            }\n",
    "        } else { // заполнение рандомными значениями в диапозоне [-50, 50]\n",
    "            std::srand(std::time(0));\n",
    "\n",
    "            for (int i = 0; i < mSize; ++i) {\n",
    "                for (int j = 0; j < mSize; ++j) {\n",
    "                    a[i][j] = std::rand() % 101 - 50;\n",
    "                }\n",
    "            }\n",
    "        }\n",
    "    }\n",
    "\n",
    "    int mSize;\n",
    "    float** a;\n",
    "};\n",
    "```"
   ]
  },
  {
   "cell_type": "markdown",
   "metadata": {},
   "source": [
    "Класс, преобразующий начальную матрицу к нормальной форме Фробениуса"
   ]
  },
  {
   "cell_type": "markdown",
   "metadata": {},
   "source": [
    "```c++\n",
    "class FrobeniusForm{\n",
    "public:\n",
    "\n",
    "    explicit FrobeniusForm(const Matrix& exMatrix) : fSize(exMatrix.size()),\n",
    "                                                     a(exMatrix) {\n",
    "        Matrix cur(fSize, true);\n",
    "        for (int i = 0; i < fSize - 1; ++i) { // инициализация дополнительных матриц\n",
    "            m.push_back(cur);\n",
    "            invertM.push_back(cur);\n",
    "        }\n",
    "\n",
    "        trace = getTrace(); // вычисление следа начальной матрицы\n",
    "\n",
    "        state = \"InputMatrix\"; // состояние матрицы\n",
    "    }\n",
    "    float trace;\n",
    "\n",
    "    bool getFNormalFrom() { // получение нормальной формы матрицы, возвращает true, если преобразование прошло удачно,\n",
    "                            // иначе - false\n",
    "        int i;\n",
    "        for (i = fSize - 1; i > 0; --i) {\n",
    "            if (fabs(a[i][i - 1]) > 1e-8) {\n",
    "                generateMatriciesToMultiply(i - 1); // вычисление матриц M_i и M^{-1}_i\n",
    "                a = invertM[i - 1] * a;\n",
    "                a = a * m[i - 1];\n",
    "\n",
    "            } else {\n",
    "                return false;\n",
    "            }\n",
    "        }\n",
    "\n",
    "        state = \"FrobeniusForm\";\n",
    "        return true;\n",
    "    }\n",
    "\n",
    "private:\n",
    "    int fSize; \n",
    "    std::string state; // строка состояния матрицы\n",
    "    Matrix a; \n",
    "    std::vector<Matrix> m; // вектор матриц M\n",
    "    std::vector<Matrix> invertM; // вектор матриц M^{-1}\n",
    "\n",
    "    float getTrace() { // вычисление следа матриц\n",
    "        float sum = 0;\n",
    "\n",
    "        for (int i = 0; i < a.size(); ++i) {\n",
    "            sum += a[i][i];\n",
    "        }\n",
    "\n",
    "        return sum;\n",
    "    }\n",
    "    \n",
    "    void generateMatriciesToMultiply(int i) { // генерация дополнительных матриц\n",
    "        for (int j = 0; j < fSize; ++j) {\n",
    "            m[i][j][j] = 1;\n",
    "            m[i][i][j] = -a[i + 1][j] / a[i + 1][i];\n",
    "\n",
    "            invertM[i][j][j] = 1;\n",
    "            invertM[i][i][j] = a[i + 1][j];\n",
    "\n",
    "            if (i == j) {\n",
    "                m[i][i][j] /= -a[i + 1][i];\n",
    "            }\n",
    "        }\n",
    "    }\n",
    "};\n",
    "```"
   ]
  },
  {
   "cell_type": "markdown",
   "metadata": {},
   "source": [
    "### Выходные данные"
   ]
  },
  {
   "cell_type": "markdown",
   "metadata": {},
   "source": [
    "$$\n",
    "M_3 = \\left( \\begin{array}{rrrr}\n",
    "    1 &   0 &   0 &   0 \\\\\n",
    "    0 &   1 &   0 &   0 \\\\\n",
    "    0.375000 &   2.000000 &  -0.062500 &   1.437500 \\\\\n",
    "    0 &   0 &   0 &   1 \\\\\n",
    "\\end{array} \\right)\n",
    "$$\n",
    "\n",
    "$$\n",
    "M_2 = \\left( \\begin{array}{rrrr}\n",
    "    1 &   0 &   0 &   0 \\\\\n",
    "    3.650078 &   0.001567 &  -0.122453 &   2.849334 \\\\\n",
    "    0 &   0 &   1 &   0 \\\\\n",
    "    0 &   0 &   0 &   1 \\\\\n",
    "\\end{array} \\right)\n",
    "$$\n",
    "\n",
    "$$\n",
    "M_1 = \\left( \\begin{array}{rrrr}\n",
    "    0.000006 &  -0.001036 &   0.076253 &  -1.083492 \\\\\n",
    "    0 &   1 &   0 &   0 \\\\\n",
    "    0 &   0 &   1 &   0 \\\\\n",
    "    0 &   0 &   0 &   1 \\\\\n",
    "\\end{array} \\right)\n",
    "$$\n",
    "\n",
    "$$\n",
    "F = \\left( \\begin{array}{rrrr}\n",
    "       52 &     -813 &  -291468 &   841577 \\\\\n",
    "        1 &        0 &        0 &        0 \\\\\n",
    "        0 &        1 &        0 &        0 \\\\\n",
    "        0 &        0 &        1 &        0 \\\\\n",
    "\\end{array} \\right)\n",
    "$$"
   ]
  }
 ],
 "metadata": {
  "kernelspec": {
   "display_name": "C++17",
   "language": "C++17",
   "name": "xcpp17"
  },
  "language_info": {
   "codemirror_mode": "text/x-c++src",
   "file_extension": ".cpp",
   "mimetype": "text/x-c++src",
   "name": "c++",
   "version": "-std=c++17"
  }
 },
 "nbformat": 4,
 "nbformat_minor": 2
}
