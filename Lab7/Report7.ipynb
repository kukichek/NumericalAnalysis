{
 "cells": [
  {
   "cell_type": "markdown",
   "metadata": {},
   "source": [
    "## ВМА. Лабораторная 7. Отчет\n",
    "### Гамезо Валерия"
   ]
  },
  {
   "cell_type": "markdown",
   "metadata": {},
   "source": [
    "### Постановка задачи"
   ]
  },
  {
   "cell_type": "markdown",
   "metadata": {},
   "source": [
    "Вычислить вещественные корни собственного многочлена четвертой степени $P(\\lambda)$, полученного из канонической формы Фробениуса лабораторной работы «Метод Данилевского». \n",
    "\n",
    "<ol>\n",
    "    <li>\n",
    "        Произвести отделение корней многочлена $P(\\lambda)$.\n",
    "        Для определения промежутков монотонности функции $P(\\lambda)$ решить уравнение $P'(\\lambda) = 0$: \n",
    "        <ol>\n",
    "            <li>методом простой итерации;</li>\n",
    "            <li>методом Ньютона</li>\n",
    "        </ol>\n",
    "        Предварительно произвести отделение корней многочлена $P'(\\lambda)$.\n",
    "    </li>\n",
    "    <li>\n",
    "        Приближенно вычислить вещественные корни собственного многочлена:\n",
    "        <ol>\n",
    "            <li>применить метод деления отрезка пополам;</li>\n",
    "            <li>применить метод Ньютона.</li>\n",
    "        </ol>\n",
    "    </li>\n",
    "</ol>"
   ]
  },
  {
   "cell_type": "markdown",
   "metadata": {},
   "source": [
    "### Входные данные "
   ]
  },
  {
   "cell_type": "markdown",
   "metadata": {},
   "source": [
    "$$ P(\\lambda) = x^4 - 52 x^3 + 813 x^2 + 291468 x - 841577$$"
   ]
  },
  {
   "cell_type": "markdown",
   "metadata": {},
   "source": [
    "### Листинг программы"
   ]
  },
  {
   "cell_type": "markdown",
   "metadata": {},
   "source": [
    "Абстрактный родтельский класс метода"
   ]
  },
  {
   "cell_type": "markdown",
   "metadata": {},
   "source": [
    "```c++\n",
    "class Method {\n",
    " protected:\n",
    "  std::vector<float> function;\n",
    "\n",
    "  float multiply(std::vector<float>&, float); // функция получения значения уравнения f(x) при f, \n",
    "                                              // заданном вектором коэффициэнтов a_i\n",
    "};\n",
    "\n",
    "float Method::multiply(std::vector<float>& f, float x) {\n",
    "  float ans = f[f.size() - 1];\n",
    "\n",
    "  for (int i = f.size() - 1; i > 0; --i) {\n",
    "    ans = ans * x + f[i - 1];\n",
    "  }\n",
    "\n",
    "  return ans;\n",
    "}\n",
    "```"
   ]
  },
  {
   "cell_type": "markdown",
   "metadata": {},
   "source": [
    "Класс метода Ньютона"
   ]
  },
  {
   "cell_type": "markdown",
   "metadata": {},
   "source": [
    "```c++\n",
    "class NewtonsMethod : public Method {\n",
    " public:\n",
    "  NewtonsMethod(std::initializer_list<float>); // инициализация f(x) при помощи списка коэффициэнтов, записанных слева направо\n",
    "\n",
    "  float getFuncVal(float); // получение значения функции f(x)\n",
    "  float getDerivVal(float); // получение значения функции f'(x)\n",
    "\n",
    "  float getX(float); // получение корня уравнения f(x) = 0 при заданном приближении x_0\n",
    " private:\n",
    "  const float E = 1e-9;\n",
    "\n",
    "  std::vector<float> derivative; // вектор коэффициентов производной исходной функции, инициализируется в конструкторе\n",
    "};\n",
    "\n",
    "NewtonsMethod::NewtonsMethod(std::initializer_list<float> coefs) {\n",
    "  int size = coefs.size();\n",
    "  function.resize(size);\n",
    "  derivative.resize(size - 1);\n",
    "\n",
    "  for (int i = 0, k = size - 1; i < size; ++i, k--) { // инициализация вектора коэффициентов функции f(x)\n",
    "    function[k] = *(coefs.begin() + i);\n",
    "  }\n",
    "\n",
    "  for (int i = size - 1; i > 0; --i) { // инициализация вектора коэффициентов f'(x)\n",
    "    derivative[i - 1] = function[i] * i;\n",
    "  }\n",
    "}\n",
    "\n",
    "float NewtonsMethod::getFuncVal(float x) {\n",
    "  return multiply(function, x);\n",
    "}\n",
    "\n",
    "float NewtonsMethod::getDerivVal(float x) {\n",
    "  return multiply(derivative, x);\n",
    "}\n",
    "\n",
    "float NewtonsMethod::getX(float x0) {\n",
    "  float xk = x0;\n",
    "  float xkPlus = xk - getFuncVal(xk) / getDerivVal(xk);\n",
    "\n",
    "  while(fabs(xk - xkPlus) > E) { // выполнение цикла до получения корня заданной константой точности \n",
    "    xk = xkPlus;\n",
    "    xkPlus = xk - getFuncVal(xk) / getDerivVal(xk); // получение значения x_{k + 1} = x_k - f(x_k) / f'(x_k)\n",
    "  }\n",
    "\n",
    "  return xkPlus;\n",
    "}\n",
    "```"
   ]
  },
  {
   "cell_type": "markdown",
   "metadata": {},
   "source": [
    "Класс метода бисекции"
   ]
  },
  {
   "cell_type": "markdown",
   "metadata": {},
   "source": [
    "```c++\n",
    "class BisectionMethod : public Method{\n",
    " public:\n",
    "  BisectionMethod(std::initializer_list<float>);\n",
    "\n",
    "  float getX(float, float);\n",
    " private:\n",
    "  const float E = 2e-6;\n",
    "};\n",
    "\n",
    "BisectionMethod::BisectionMethod(std::initializer_list<float> coefs) {\n",
    "  int size = coefs.size();\n",
    "  function.resize(size);\n",
    "\n",
    "  for (int i = 0, k = size - 1; i < size; ++i, k--) {\n",
    "    function[k] = *(coefs.begin() + i);\n",
    "  }\n",
    "}\n",
    "\n",
    "float BisectionMethod::getX(float a, float b) {\n",
    "  if (multiply(function, a) * multiply(function, b) > 0) throw std::invalid_argument(\"Invalid range\"); // проверка \n",
    "                                                                            // начального промежутка на валидность\n",
    "\n",
    "  float m;\n",
    "\n",
    "  while (b - a > 2 * E) {\n",
    "    m = (a + b) / 2;\n",
    "    float fM = multiply(function, m);\n",
    "    if (fabs(fM) < E) return m;\n",
    "\n",
    "    (multiply(function, a) * fM < 0) ? b = m : a = m;\n",
    "  }\n",
    "\n",
    "  return (a + b) / 2;\n",
    "}\n",
    "```"
   ]
  },
  {
   "cell_type": "markdown",
   "metadata": {},
   "source": [
    "Класс метода простой итерации для нелинейных уравнений"
   ]
  },
  {
   "cell_type": "markdown",
   "metadata": {},
   "source": [
    "```c++\n",
    "class IterationMethod: public Method{\n",
    " public:\n",
    "  IterationMethod(std::initializer_list<float>, float); // инициализации вектора коэффициентов функции phi(x)\n",
    "                                                        // при помощи вектора коэффициентов функии f(x) и функции psi(x), \n",
    "                                                        // заданной константой c\n",
    "\n",
    "  float getX(float);\n",
    " private:\n",
    "  const float E = 1e-9;\n",
    "};\n",
    "\n",
    "IterationMethod::IterationMethod(std::initializer_list<float> coefs, float c) {\n",
    "  int size = coefs.size();\n",
    "  function.resize(size);\n",
    "\n",
    "  for (int i = 0, k = size - 1; i < size; ++i, k--) { // инициализации вектора коэффициентов функции phi(x)\n",
    "    function[k] = *(coefs.begin() + i) * c;\n",
    "  }\n",
    "\n",
    "  function[1]++;\n",
    "}\n",
    "\n",
    "float IterationMethod::getX(float x0) {\n",
    "  float xk = x0;\n",
    "  float xkPlus = multiply(function, xk);\n",
    "\n",
    "  while (fabs(xk - xkPlus) > E) {\n",
    "    xk = xkPlus;\n",
    "    xkPlus = multiply(function, xk);\n",
    "  }\n",
    "\n",
    "  return xkPlus;\n",
    "}\n",
    "```"
   ]
  },
  {
   "cell_type": "markdown",
   "metadata": {},
   "source": [
    "### Ход вычисления"
   ]
  },
  {
   "cell_type": "markdown",
   "metadata": {},
   "source": [
    "Для отделения корней и выделения промежутков применим графический способ, представляя исходную функцию $f(x) = 0$ в виде болле простых $f_1(x) = f_2(x)$, где $f_1(x) = x^4$, а $f_2(x) = 52 x^3 - 813 x^2 - 291468 x + 841577$."
   ]
  },
  {
   "cell_type": "markdown",
   "metadata": {},
   "source": [
    "<img src = \"initFunc.jpeg\">"
   ]
  },
  {
   "cell_type": "markdown",
   "metadata": {},
   "source": [
    "На графике можно заметить, что у нас имеется два вещественных корня, один из которых находится на промежутке $[-55, -50]$, а второй $- \\; [0, 5]$."
   ]
  },
  {
   "cell_type": "markdown",
   "metadata": {},
   "source": [
    "Для определения промежутков монотонности решим уравнение $P'(\\lambda) = 0$. $P'(\\lambda) = 4 x^3 - 156 x^2 + 1626 x + 291468$. Предварительно отделим существующие вещественные корни, используя графический способ. Представим в $P'(\\lambda)$ виде более простых $f_1(x), f_2(x) \\; | \\; f_1(x) = 2 x^3, f_2(x) = 78 x ^2 - 813 x - 145734$ так что $f_1(x) = f_2(x)$."
   ]
  },
  {
   "cell_type": "markdown",
   "metadata": {},
   "source": [
    "<img src = \"derivFunc.jpeg\">"
   ]
  },
  {
   "cell_type": "markdown",
   "metadata": {},
   "source": [
    "По графику видно, что существует единсвенный вещественный корень, находящийся в промежутке $[-32, -28]$."
   ]
  },
  {
   "cell_type": "markdown",
   "metadata": {},
   "source": [
    "#### Вычисление корней уравнения производной методом простой итерации для нелинейных уравнений"
   ]
  },
  {
   "cell_type": "markdown",
   "metadata": {},
   "source": [
    "Вичислим корень уравнения $P'(\\lambda) = 0$ при помощи метода простой итерации. Для этого приведем уравнение к виду $x = \\varphi(x)$, пригодному для итераций. Пусть $x = x + \\psi(x) * \\varphi(x)$, где $\\psi(x) = (-1 \\cdot 10^{-4}) - \\text{const}$. Убедимся, что полученная функция удовлетворяет условию сходимости $|\\varphi'(x)| < 1$ на отрезке $[-32, -28]$: "
   ]
  },
  {
   "cell_type": "markdown",
   "metadata": {},
   "source": [
    "<img src = \"iterFunc.jpeg\">"
   ]
  },
  {
   "cell_type": "markdown",
   "metadata": {},
   "source": [
    "Корень, полученный при помощи метода простой итерации для нелинейных уравнений, равен: $-29.73616790771$, $\\varepsilon = 1 \\cdot 10^{-9}$."
   ]
  },
  {
   "cell_type": "markdown",
   "metadata": {},
   "source": [
    "#### Вычисление корней уравнения производной методом Ньютона"
   ]
  },
  {
   "cell_type": "markdown",
   "metadata": {},
   "source": [
    "Корень, полученный при помощи метода Ньютона, равен: $-29.73616790771$, $\\varepsilon = 1 \\cdot 10^{-9}$."
   ]
  },
  {
   "cell_type": "markdown",
   "metadata": {},
   "source": [
    "В итоге исходная функция имеет следующие промежутки монотонности:\n",
    "\n",
    "$$\n",
    "\\begin{array}{ccc}\n",
    "    (-\\infty, -29.73...) & \\{-29.73616...\\} & (-29.73..., +\\infty) \\\\\n",
    "    f(x) \\downarrow & \\text{global minimum} & f(x) \\uparrow\n",
    "\\end{array}\n",
    "$$"
   ]
  },
  {
   "cell_type": "markdown",
   "metadata": {},
   "source": [
    "Следовательно, мы уточнили, что на промежутках $[-55, -50]$ и $[0, 5]$ исходная функция является монотонной."
   ]
  },
  {
   "cell_type": "markdown",
   "metadata": {},
   "source": [
    "#### Нахождение корней уравнения методом бисекции"
   ]
  },
  {
   "cell_type": "markdown",
   "metadata": {},
   "source": [
    "Пусть начальные точки $x_0, x_1$ для первого вещественного корня уравнения равны конечным точкам промежутка $[-55, -50], \\; x_0 = -55, \\; x_1 = -50$. Тогда $f(x_0) = 3389133, \\; f(x_1) = -632477 \\implies f(x_0)f(x_1) < 0$. Следовательно, с условием, что на данном промежутке функция является монотонной, мы имеем единственное решение."
   ]
  },
  {
   "cell_type": "markdown",
   "metadata": {},
   "source": [
    "Первый корень, полученный при помощи метода бисекции, равен: $-50.90182495117$, $\\varepsilon = 1 \\cdot 10^{-5}$."
   ]
  },
  {
   "cell_type": "markdown",
   "metadata": {},
   "source": [
    "Пусть начальные точки $x_0, x_1$ для второго вещественного корня уравнения равны конечным точкам промежутка $[0, 5], \\; x_0 = 0, \\; x_1 = 5$. Тогда $f(x_0) = -841577, \\; f(x_1) = 630213 \\implies f(x_0)f(x_1) < 0$. Следовательно, с условием, что на данном промежутке функция является монотонной, мы имеем единственное решение."
   ]
  },
  {
   "cell_type": "markdown",
   "metadata": {},
   "source": [
    "Второй корень, полученный при помощи метода бисекции, равен: $2.86840081215$, $\\varepsilon = 1 \\cdot 10^{-5}$."
   ]
  },
  {
   "cell_type": "markdown",
   "metadata": {},
   "source": [
    "#### Нахождение корней уравнения методом Ньютона"
   ]
  },
  {
   "cell_type": "markdown",
   "metadata": {},
   "source": [
    "Корни, полученные при помощи метода Ньютона: $ x_1 = -50.90182113647, \\; x_2 = 2.86840176582, \\; \\varepsilon = 1 \\cdot 10^{-9}$."
   ]
  }
 ],
 "metadata": {
  "kernelspec": {
   "display_name": "C++17",
   "language": "C++17",
   "name": "xcpp17"
  },
  "language_info": {
   "codemirror_mode": "text/x-c++src",
   "file_extension": ".cpp",
   "mimetype": "text/x-c++src",
   "name": "c++",
   "version": "-std=c++17"
  }
 },
 "nbformat": 4,
 "nbformat_minor": 2
}
